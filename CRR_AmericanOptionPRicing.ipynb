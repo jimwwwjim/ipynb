{
 "cells": [
  {
   "cell_type": "code",
   "execution_count": 3,
   "metadata": {},
   "outputs": [],
   "source": [
    "import numpy as np\n",
    "import math\n",
    "from time import clock"
   ]
  },
  {
   "cell_type": "code",
   "execution_count": 2,
   "metadata": {},
   "outputs": [],
   "source": [
    "# CRR美式期权\n",
    "def CRR_american_option_value(S0, K, T, r, sigma, otype, M=720):\n",
    "    # 一.生成二叉树\n",
    "    dt = T / M  # length of time interval\n",
    "    df = math.exp(-r * dt)  # discount per interval\n",
    "    inf = math.exp(r * dt)  # discount per interval\n",
    "\n",
    "    # 计算udp\n",
    "    u = math.exp(sigma * math.sqrt(dt))  # up movement\n",
    "    d = 1 / u  # down movement\n",
    "    q = (math.exp(r * dt) - d) / (u - d)  # martingale branch probability\n",
    "    \n",
    "    # 初始化幂矩阵\n",
    "    mu = np.arange(M + 1)\n",
    "    mu = np.resize(mu, (M + 1, M + 1))\n",
    "    md = np.transpose(mu)\n",
    "    \n",
    "    # 计算个节点单向变动时的股票价格\n",
    "    mus = u ** (mu - md)\n",
    "    mds = d ** md\n",
    "    \n",
    "    # 得到各节点的股票价格\n",
    "    S = S0 * mus * mds \n",
    "        \n",
    "    # 二.计算每个节点股票的预期价格\n",
    "    mes = S0 * inf ** mu\n",
    "\n",
    "    # 三.得到叶子结点的期权价值\n",
    "    if otype == 'call':\n",
    "        V = np.maximum(S - K, 0)     \n",
    "        #计算每个节点提前行权的收益\n",
    "        oreturn = mes - K\n",
    "    else:\n",
    "        V = np.maximum(K - S, 0)       \n",
    "        #计算每个节点提前行权的收益\n",
    "        oreturn = K - mes\n",
    "\n",
    "    # 四.逐步向前加权平均折现和提前行权的收益比较，得到期初期权价值\n",
    "    for z in range(0, M):  # backwards iteration\n",
    "        #计算后期折现的后期价格\n",
    "        ovalue = (q * V[0:M - z, M - z] +\n",
    "                         (1 - q) * V[1:M - z + 1, M - z]) * df\n",
    "        #逐列更新期权价值，相当于二叉树中的逐层向前折算\n",
    "        #期权价格取后期折现和提前行权获得收益的最大值\n",
    "        V[0:M - z, M - z - 1] = np.maximum(ovalue, oreturn[0:M - z, M - z - 1])\n",
    "        \n",
    "    return V[0, 0]"
   ]
  },
  {
   "cell_type": "code",
   "execution_count": 5,
   "metadata": {},
   "outputs": [
    {
     "name": "stdout",
     "output_type": "stream",
     "text": [
      "87.83460206068068 0.11983889999999775\n"
     ]
    }
   ],
   "source": [
    "timer_ = clock()\n",
    "a = CRR_american_option_value(1940, 1940, 1, .03, .15, 'put', 720)\n",
    "print(a,clock()-timer_)"
   ]
  },
  {
   "cell_type": "code",
   "execution_count": null,
   "metadata": {},
   "outputs": [],
   "source": []
  },
  {
   "cell_type": "code",
   "execution_count": null,
   "metadata": {},
   "outputs": [],
   "source": []
  },
  {
   "cell_type": "code",
   "execution_count": null,
   "metadata": {},
   "outputs": [],
   "source": []
  },
  {
   "cell_type": "code",
   "execution_count": null,
   "metadata": {},
   "outputs": [],
   "source": []
  },
  {
   "cell_type": "code",
   "execution_count": null,
   "metadata": {},
   "outputs": [],
   "source": []
  },
  {
   "cell_type": "code",
   "execution_count": null,
   "metadata": {},
   "outputs": [],
   "source": []
  },
  {
   "cell_type": "code",
   "execution_count": null,
   "metadata": {},
   "outputs": [],
   "source": []
  },
  {
   "cell_type": "code",
   "execution_count": null,
   "metadata": {},
   "outputs": [],
   "source": []
  },
  {
   "cell_type": "code",
   "execution_count": null,
   "metadata": {},
   "outputs": [],
   "source": []
  },
  {
   "cell_type": "code",
   "execution_count": null,
   "metadata": {},
   "outputs": [],
   "source": []
  },
  {
   "cell_type": "code",
   "execution_count": null,
   "metadata": {},
   "outputs": [],
   "source": []
  },
  {
   "cell_type": "code",
   "execution_count": null,
   "metadata": {},
   "outputs": [],
   "source": []
  },
  {
   "cell_type": "code",
   "execution_count": null,
   "metadata": {},
   "outputs": [],
   "source": []
  },
  {
   "cell_type": "code",
   "execution_count": null,
   "metadata": {},
   "outputs": [],
   "source": []
  },
  {
   "cell_type": "code",
   "execution_count": null,
   "metadata": {},
   "outputs": [],
   "source": []
  }
 ],
 "metadata": {
  "kernelspec": {
   "display_name": "Python 3",
   "language": "python",
   "name": "python3"
  },
  "language_info": {
   "codemirror_mode": {
    "name": "ipython",
    "version": 3
   },
   "file_extension": ".py",
   "mimetype": "text/x-python",
   "name": "python",
   "nbconvert_exporter": "python",
   "pygments_lexer": "ipython3",
   "version": "3.6.4"
  }
 },
 "nbformat": 4,
 "nbformat_minor": 2
}
