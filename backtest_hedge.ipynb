{
 "cells": [
  {
   "cell_type": "markdown",
   "metadata": {},
   "source": [
    "Delta Hedging\n",
    "\n",
    "Backtesting Framework\n",
    "\n",
    "Author: jimwwwjim"
   ]
  },
  {
   "cell_type": "code",
   "execution_count": 37,
   "metadata": {},
   "outputs": [],
   "source": [
    "#----packages input---\n",
    "#for the historical data\n",
    "from WindPy import *\n",
    "w.start()\n",
    "import numpy as np\n",
    "import pandas as pd\n",
    "import matplotlib.pyplot as plt\n",
    "from math import exp, sqrt, log\n",
    "from random import seed, gauss\n",
    "import datetime\n",
    "from time import clock\n",
    "from scipy.stats.distributions import norm\n",
    "import scipy\n",
    "# pd setting\n",
    "pd.set_option('display.width',320)\n",
    "pd.set_option('display.max_rows',100)\n",
    "# historical data collection and management\n",
    "# minutes data based on wsi api function"
   ]
  },
  {
   "cell_type": "code",
   "execution_count": 38,
   "metadata": {},
   "outputs": [
    {
     "name": "stdout",
     "output_type": "stream",
     "text": [
      "30 days, 0:00:00\n",
      "30\n"
     ]
    }
   ],
   "source": [
    "#time structure\n",
    "contract_enddate = '2019-06-30'\n",
    "contract_startdate = '2019-05-31'\n",
    "def time_remain(contract_enddate):\n",
    "    t_end = datetime.datetime.strptime(contract_enddate,'%Y-%m-%d')\n",
    "    date_end = t_end.date()\n",
    "    date_now = datetime.datetime.now().date()\n",
    "    time_delta = date_end - date_now\n",
    "    re_days = time_delta.days\n",
    "    T = re_days/365\n",
    "    return re_days,T\n",
    "remain_days, remain_T = time_remain(contract_enddate)\n",
    "itertype = '1day'\n",
    "t_start = datetime.datetime.strptime(contract_startdate,'%Y-%m-%d')\n",
    "t_end = datetime.datetime.strptime(contract_enddate,'%Y-%m-%d')\n",
    "t_delta = t_end - t_start\n",
    "print(t_delta)\n",
    "\n",
    "dt = 0     #相邻节点之间的距离\n",
    "Niter = 0   #总结点的选择\n",
    "if itertype == '1day':\n",
    "    dt = 1/360\n",
    "    Niter = t_delta.days\n",
    "    print(Niter)\n",
    "elif itertype == '30min':\n",
    "    dt = 1/3000        # waiting for modification\n",
    "    Niter = t_delta.days*12\n",
    "elif itertype == '1hour':\n",
    "    dt = 1/1500       # waiting for modification\n",
    "    Niter = t_delta.days*6"
   ]
  },
  {
   "cell_type": "markdown",
   "metadata": {},
   "source": [
    " "
   ]
  },
  {
   "cell_type": "markdown",
   "metadata": {},
   "source": [
    " First part of backtest based on the prices simulated by stochastic process"
   ]
  },
  {
   "cell_type": "markdown",
   "metadata": {},
   "source": [
    " "
   ]
  },
  {
   "cell_type": "markdown",
   "metadata": {},
   "source": [
    " "
   ]
  },
  {
   "cell_type": "code",
   "execution_count": 39,
   "metadata": {},
   "outputs": [],
   "source": [
    "def MonteCarlo(reTime, rf, S, K, sigma):\n",
    "\treTime = Niter\n",
    "\tsiTi = 100000\n",
    "\tlist_1 = []   #asian call option value list\n",
    "\tlist_2 = []   #asian put option value list\n",
    "\tdt = 1/250\n",
    "\ttotalNodes = reTime\n",
    "\tfor si in range(siTi):\n",
    "\t\tpath = [S]\n",
    "\t\tfor node in range(int(totalNodes)-1):\n",
    "\t\t\tpath.append(path[-1]*exp((rf-0.5*sigma**2)*dt+(sigma*sqrt(dt)*gauss(0,1))))\n",
    "\t\tave_close = average(path)\n",
    "\t\tasian_put_value = max(K-ave_close,0)\n",
    "\t\tasian_call_value = max(ave_close-K,0)\n",
    "\t\tlist_2.append(asian_put_value)\n",
    "\t\tlist_1.append(asian_call_value)\n",
    "\tp = sum(list_2)/siTi\n",
    "\tc = sum(list_1)/siTi\n",
    "\t#return {'asianput_MC':p,'asiancall_MC':c,'asiandelta':delta,'asian_gamma':gamma}\n",
    "\treturn {'asianput_MC':p,'asiancall_MC':c}"
   ]
  },
  {
   "cell_type": "code",
   "execution_count": 5,
   "metadata": {},
   "outputs": [
    {
     "name": "stdout",
     "output_type": "stream",
     "text": [
      "{'asianput_MC': 268.1289101995841, 'asiancall_MC': 292.45223897545765} 6.0477618\n"
     ]
    }
   ],
   "source": [
    "timer_ = clock()\n",
    "print(MonteCarlo(28,.03,12030,12030,.3),clock()-timer_)"
   ]
  },
  {
   "cell_type": "code",
   "execution_count": 33,
   "metadata": {},
   "outputs": [],
   "source": [
    "def BlackScholes(reTime, rf, S, K, sigma):\n",
    "\treTime = reTime/360\n",
    "\td1=(log(S/K)+(rf+sigma**2/2)*reTime)/sigma*sqrt(reTime)\n",
    "\td2=d1-sigma*sqrt(reTime)\n",
    "\tcall_BS = (S*norm.cdf(d1,0,1)-K*exp(-rf*reTime)*norm.cdf(d2,0,1))\n",
    "\tput_BS = K*exp(-rf*reTime)*norm.cdf(-d2,0,1)-S*norm.cdf(-d1,0,1)\n",
    "\tdelta=norm.cdf(d1,0,1)\n",
    "\tgamma=norm.pdf(d1,0,1)/(S*sigma*sqrt(reTime))\n",
    "\tvega=S*norm.pdf(d1)*np.sqrt(reTime)\n",
    "\ttheta=-.5*S*norm.pdf(d1)*sigma/np.sqrt(reTime)\n",
    "\treturn {'call_BS':call_BS,'put_BS':put_BS,'delta':delta,'gamma':gamma,'vega':vega,'theta':theta}"
   ]
  },
  {
   "cell_type": "code",
   "execution_count": 34,
   "metadata": {},
   "outputs": [
    {
     "name": "stdout",
     "output_type": "stream",
     "text": [
      "57.090855798104826 0.0014095999977143947\n"
     ]
    }
   ],
   "source": [
    "tiemr_ = clock()\n",
    "bsvalue = BlackScholes(120,.03,1940,1940,.15)\n",
    "print(bsvalue['put_BS'],clock()-tiemr_)"
   ]
  },
  {
   "cell_type": "code",
   "execution_count": 42,
   "metadata": {},
   "outputs": [],
   "source": [
    "def MonteCarlo_2(reTime,rf,S,K,sigma): #special for price insurance\n",
    "\treTime = Niter\n",
    "\tsiTi = 10\n",
    "\tlist_1 = []   #asian call option value list\n",
    "\tlist_2 = []   #asian put option value list\n",
    "\tdt = 1/360\n",
    "\ttotalNodes = reTime\n",
    "\tfor si in range(siTi):\n",
    "\t\tpath = [S]\n",
    "\t\tfor node in range(int(totalNodes)-1):\n",
    "\t\t\tpath.append(path[-1]*exp((rf-0.5*sigma**2)*dt+(sigma*sqrt(dt)*gauss(0,1))))     \n",
    "\t\tave_close = average(path[-30:])\n",
    "\t\tasian_put_value = max(K-ave_close,0)\n",
    "\t\tasian_call_value = max(ave_close-K,0)\n",
    "\t\tlist_2.append(asian_put_value)\n",
    "\t\tlist_1.append(asian_call_value)\n",
    "\tp = sum(list_2)/siTi\n",
    "\tc = sum(list_1)/siTi\n",
    "\t#return {'asianput_MC':p,'asiancall_MC':c,'asiandelta':delta,'asian_gamma':gamma}\n",
    "\treturn {'asianput_MC':p,'asiancall_MC':c}"
   ]
  },
  {
   "cell_type": "code",
   "execution_count": 43,
   "metadata": {},
   "outputs": [
    {
     "name": "stdout",
     "output_type": "stream",
     "text": [
      "19.769692446502745 0.0016089999990072101\n"
     ]
    }
   ],
   "source": [
    "timer_ = clock()\n",
    "trial_ = MonteCarlo_2(120,.03,1940,1940,.14)\n",
    "print(trial_['asianput_MC'],clock()-timer_)"
   ]
  },
  {
   "cell_type": "code",
   "execution_count": 6,
   "metadata": {},
   "outputs": [],
   "source": [
    "def asian_delta(reTime, rf, S, K, sigma):\n",
    "\tMC_1 = MonteCarlo(reTime, rf, S*(1+0.01*sigma), K, sigma)\n",
    "\tMC_2 = MonteCarlo(reTime, rf, S*(1-0.01*sigma), K, sigma)\n",
    "\tputvalue_1 = MC_1['asianput_MC']\n",
    "\tputvalue_2 = MC_2['asianput_MC']\n",
    "\tdelta = (putvalue_1-putvalue_2)/(0.02*sigma*S)\n",
    "\treturn delta\n",
    "def asian_gamma(reTime, rf, S, K, sigma):\n",
    "\tS1 = S + 0.01*S\n",
    "\tS2 = S - 0.01*S\n",
    "\tad_1 = asian_delta(reTime, rf, S1, K, sigma)\n",
    "\tad_2 = asian_delta(reTime, rf, S2, K, sigma)\n",
    "\tgamma = (ad_1 - ad_2)/(0.02*S)\n",
    "\treturn gamma\n",
    "\n",
    "def asian_theta(reTime,rf,S,K,sigma):\n",
    "\ttau_1 = reTime-dt\n",
    "\tMC_1 = MonteCarlo(tau_1, rf, S, K, sigma)\n",
    "\tMC_2 = MonteCarlo(reTime, rf, S, K, sigma)\n",
    "\tputvalue_1 = MC_1['asianput_MC']\n",
    "\tputvalue_2 = MC_2['asianput_MC']\n",
    "\ttheta = (putvalue_2-putvalue_1)/dt\n",
    "\treturn theta"
   ]
  },
  {
   "cell_type": "code",
   "execution_count": 7,
   "metadata": {},
   "outputs": [],
   "source": [
    "def BS_delta(reTime,rf,S,K,sigma):\n",
    "    return norm.cdf((log(S/K)+(rf+sigma**2/2)*reTime*dt)/sigma*sqrt(reTime*dt),0,1)"
   ]
  },
  {
   "cell_type": "markdown",
   "metadata": {},
   "source": [
    "Delta check"
   ]
  },
  {
   "cell_type": "markdown",
   "metadata": {},
   "source": [
    " "
   ]
  },
  {
   "cell_type": "code",
   "execution_count": 49,
   "metadata": {},
   "outputs": [
    {
     "name": "stdout",
     "output_type": "stream",
     "text": [
      "80.88534980429947 0.0004250999991199933\n"
     ]
    }
   ],
   "source": []
  },
  {
   "cell_type": "code",
   "execution_count": null,
   "metadata": {},
   "outputs": [],
   "source": []
  },
  {
   "cell_type": "code",
   "execution_count": 18,
   "metadata": {},
   "outputs": [],
   "source": []
  },
  {
   "cell_type": "code",
   "execution_count": 4,
   "metadata": {},
   "outputs": [],
   "source": [
    "class MCAPut(object):\n",
    "\tdef __init__(self,start,T,K,N):\n",
    "\t\tself.T=T\n",
    "\t\tself.K=K\n",
    "\t\tself.start=start  #time to sell option\n",
    "\t\tself.N=N\n",
    "\t\t\n",
    "\tdef calc(self,today,sigma,S,rf):\n",
    "\t\tif today<self.start:\n",
    "\t\t\treturn {'asian_delta':0,'asian_put':0,'asian_gamma':0,'asian_theta':0,'theta':0}\n",
    "\t\tif today>self.T:\n",
    "\t\t\treturn {'asian_delta':0,'asian_put':0,'asian_gamma':0,'asian_theta':0,'theta':0}\n",
    "\t\tif today == self.T:\n",
    "\t\t\treturn {'asian_delta':0,'asian_put':0,'asian_gamma':0,'asian_theta':0,'theta':0}\n",
    "\t\treTime=(self.T-today)/250.\n",
    "\t\t#print('class MCAPut self.T',self.T)\n",
    "\t\t#print('class MCAPut today',today\n",
    "\t\t#reTime=(self.T-today)/3000\n",
    "\t\t#print('class MCAPut reTime',reTime)\n",
    "\t\tasian_put = MonteCarlo(reTime, rf, S, self.K, sigma)['asianput_MC']\n",
    "\t\tdelta = asian_delta(reTime, rf, S, self.K, sigma)\n",
    "\t\tprint('delta:',delta)\n",
    "\t\t#print(type(delta))\n",
    "\t\tgamma = asian_gamma(reTime, rf, S, self.K, sigma)\n",
    "\t\tprint('gamma:',gamma)\n",
    "\t\t#print(type(gamma))\n",
    "\t\ttheta = asian_theta(reTime, rf, S, self.K, sigma)\n",
    "\t\tprint('theta:',theta)\n",
    "\t\t#print(type(theta))\n",
    "\t\treturn{'asian_delta':self.N*delta,'asian_put':self.N*asian_put,'asian_gamma':self.N*gamma,'asian_theta':self.N*theta}\n"
   ]
  },
  {
   "cell_type": "code",
   "execution_count": 9,
   "metadata": {},
   "outputs": [],
   "source": [
    "asian = MCAPut(10,100,12000,-10)"
   ]
  },
  {
   "cell_type": "code",
   "execution_count": 10,
   "metadata": {},
   "outputs": [
    {
     "name": "stdout",
     "output_type": "stream",
     "text": [
      "delta: 0.0\n",
      "gamma: 0.0\n",
      "theta: 0.0\n"
     ]
    },
    {
     "data": {
      "text/plain": [
       "{'asian_delta': -0.0,\n",
       " 'asian_gamma': -0.0,\n",
       " 'asian_put': -115000.0,\n",
       " 'asian_theta': -0.0}"
      ]
     },
     "execution_count": 10,
     "metadata": {},
     "output_type": "execute_result"
    }
   ],
   "source": [
    "asian.calc(10,0.3,12000,.03)"
   ]
  },
  {
   "cell_type": "code",
   "execution_count": 18,
   "metadata": {},
   "outputs": [
    {
     "name": "stdout",
     "output_type": "stream",
     "text": [
      "-0.6704671385149735\n",
      "3.852036906977588\n",
      "-1.8689417003134678\n",
      "0.9270011080407748\n",
      "-0.6925409309934337\n",
      "2.34748199991304\n",
      "-1.1752420513761221\n",
      "4.268445947788181\n",
      "3.0101215873138782\n",
      "1.0922565034231524\n",
      "0.5868020482477577\n"
     ]
    }
   ],
   "source": [
    "w = gauss(0,1)\n",
    "print(w)\n",
    "for i in range(10):\n",
    "    a = 2 * gauss(0,1)\n",
    "    print(a)"
   ]
  },
  {
   "cell_type": "code",
   "execution_count": null,
   "metadata": {},
   "outputs": [],
   "source": []
  },
  {
   "cell_type": "code",
   "execution_count": 31,
   "metadata": {},
   "outputs": [],
   "source": [
    "def deltahedge_1(Niter,Sdynamics='S*=(1.0+vol*sqrt(dt)*gauss(0,1))',sigmaDynamics='sigma=.3'):\n",
    "\t#optiontype = 'asian'     # optiontype could be: asian, european\n",
    "\t#pcflag = 'put'           # pcflag could be call or put\n",
    "\tglobal dt\n",
    "\tdt = 1/250\n",
    "\t    \n",
    "\tS = 12000\n",
    "\tStrike = 12000\n",
    "\trf = .03\n",
    "\tsigma = .3\n",
    "\tcash = 0\n",
    "\t#original code is dt = 1/250, in a daily basis, but in this case, each iteration means 30 mins)\n",
    "\t# dt is defintly required\n",
    "\titerToSell = 1\n",
    "\titerMaturity = Niter-1\n",
    "\tasianput = MCAPut(iterToSell,iterMaturity,Strike,-10)\n",
    "\t# just for now setting\n",
    "\tS_list = []\n",
    "\t'''\n",
    "\t-----------------------------------------------------------------\n",
    "\tonly if the other type of option is using this framework\n",
    "\t-----------------------------------------------------------------\n",
    "\t\n",
    "\tif optiontype == 'asian':\n",
    "\t\tcolumns = {'spot','vol','ZSS','cash','asian_put','totalValue','delta','gamma','ww','comm','pnlPredict'}\n",
    "\t\tdf = pd.DataFrame([[S,vol,0,0,0,0,0,0,0,0,0]],columns=columns)\n",
    "\t\tif pcflag == 'put':\n",
    "\t\t\tput = MCAPut(iterToSell,iterMaturity,Strike,-10)\n",
    "\t\telif pcflag == 'call':\n",
    "\t\t\tprint('this is not good yet')\n",
    "\t\telse:\n",
    "\t\t\tprint('pcflag is needed')\n",
    "\telif optiontype == 'european':\n",
    "\t\tcolumns=('spot','vol','ZSS','cash','option','call_BS','vega','gamma','theta','comm','pnlPredict')\n",
    "\t\tdf = pd.DataFrame([[S,vol,0,0,0,0,0,0,0,0,0]],columns=columns)\n",
    "\t\tif pcflag == 'call':\n",
    "\t\t\tcall = BSCall(iterToSell,iterMaturity,Strike,-10)\n",
    "\t\telif pcflag == 'put':\n",
    "\t\t\tprint('this function is not available yet')\n",
    "\t\telse:\n",
    "\t\t\tprint('pcfalg is needed')\n",
    "\t'''\n",
    "\tcolumns = {'spot','vol','ZSS','cash','asian_put','totalValue','delta','gamma','ww','comm','pnlPredict'}\n",
    "\tdf = pd.DataFrame([[S,sigma,0,0,0,0,0,0,0,0,0]],columns=columns)\n",
    "\tput = MCAPut(iterToSell,iterMaturity,Strike,-10)\n",
    "\n",
    "\tfor iter in range(1,Niter+1):\n",
    "\t\t#exec(Sdynamics)\n",
    "\t\t#exec(sigmaDynamics)\n",
    "\t\t\n",
    "\t\t\n",
    "\t\tS*=exp(rf*dt+sigma*sqrt(dt)*gauss(0,1))\n",
    "\t\tS_list.append(S)\n",
    "\t\tasianPutValue = asianput.calc(iter,sigma,S,rf)\n",
    "\t\t\n",
    "\t\tif iter == iterToSell:     # sell the put\n",
    "\t\t\t#asianPutValue = asianput.calc(iter,vol,S,rf)\n",
    "\t\t\tcash-=asianPutValue['asian_put']\n",
    "\t\t\t#print(asianPutValue['asian_put'])\n",
    "\t\t\n",
    "\t\t#delta hedging\n",
    "\t\t\n",
    "\t\tasianPutValue=asianput.calc(iter,sigma,S,rf)\n",
    "\t\t#print(asianPutValue)\n",
    "\t\tdelta = asianPutValue['asian_delta']\n",
    "\t\t#delta = 0\n",
    "\t\t#print(delta)\n",
    "\t\tcurrentNumberContracts=df.iloc[iter-1].ZSS\n",
    "\t\tcontractsBuy=-currentNumberContracts-delta\n",
    "\t\tcash-=contractsBuy*S\n",
    "\t\t\n",
    "\t\t#comm could be ZSS*rate or contratsBuy*rate\n",
    "\t\t\n",
    "\t\tif iter==iterMaturity:\n",
    "\t\t\tcash+=max(Strike-(sum(S_list)/len(S_list)),0)     #settle asian put, directly calculate the intrincsic value\n",
    "\t\t\n",
    "\t\tgamma = asianPutValue['asian_gamma']\n",
    "\t\tprint('gamma:',gamma)\n",
    "\t\ttheta = asianPutValue['asian_theta']\n",
    "\t\tprint('theta:',theta)\n",
    "\t\tlambda_1 = 0.03                #trading cost at percentage\n",
    "\t\tcomm = contractsBuy*S*lambda_1      #commision fee\n",
    "\t\tprint('comm:',comm)\n",
    "\t\tww = (1.5*exp(-rf*dt)*S*lambda_1*gamma**2)**(1/3)\n",
    "\t\tprint('ww',ww)\n",
    "\t\t# based on the formula of whalley wilmott, 风险厌恶系数取1\n",
    "\t\t\n",
    "\t\t\n",
    "\t\t\n",
    "\t\tdS=S-df.iloc[iter-1].spot\n",
    "\t\tpnlPredict=0.5*gamma*dS*dS+theta*dt    # 是否成立还需要再论证\n",
    "\t\tdfnew = pd.DataFrame([[S,sigma,-delta,cash,-asianPutValue['asian_put'],cash+asianPutValue['asian_put']-delta*S,delta,gamma,ww,comm,pnlPredict]],columns=columns)\n",
    "\t\tdf=df.append(dfnew,ignore_index=True)\n",
    "\t\t\n",
    "\tdf['pnl'] = df['asian_put'] - df['asian_put'].shift(1)\n",
    "\tdf['vol'] = 100.0*df['vol']\n",
    "\tdf['error'] = df['pnl'] - df['pnlPredict']\n",
    "\tdf.set_value(iterToSell,'error',0)\n",
    "\t\n",
    "\t\n",
    "\t#data visualization\n",
    "\tdf.loc[:,['vol','spot']].plot(title='spot and implied volatility')\n",
    "\tdf.loc[:,['asian_put','spot','option']].plot(title='i dont know what it is')\n",
    "\tdf.loc[:,['delta']].plot(title='delta {0} {1}'.format(Sdynamics,sigmaDynamics))\n",
    "\tdf.loc[:,['gamma']].plot(title='Gamma {0} {1}'.format(Sdynamics,sigmaDynamics))\n",
    "\tdf.loc[:,['ww']].plot(title='ww value {0} {1}'.format(Sdynamics,sigmaDynamics))\n",
    "\tdf.loc[:,['pnl']].hist(bins=50)\n",
    "\tprint(df.loc[:,['pnl']].describe())\n",
    "\tprint(df.head())\n",
    "\n"
   ]
  },
  {
   "cell_type": "code",
   "execution_count": 27,
   "metadata": {},
   "outputs": [
    {
     "name": "stdout",
     "output_type": "stream",
     "text": [
      "gamma: -0.0\n",
      "theta: -0.0\n",
      "comm: -4282044.689127154\n",
      "ww 0.0\n",
      "gamma: -0.0\n",
      "theta: -0.0\n",
      "comm: -4243932.083292693\n",
      "ww 0.0\n",
      "gamma: -0.0\n",
      "theta: -0.0\n",
      "comm: -4264086.013805233\n",
      "ww 0.0\n",
      "gamma: -0.0\n",
      "theta: -0.0\n",
      "comm: -4283260.845824047\n",
      "ww 0.0\n",
      "gamma: -0.0\n",
      "theta: -0.0\n",
      "comm: -4271435.834845482\n",
      "ww 0.0\n",
      "gamma: -0.0\n",
      "theta: -0.0\n",
      "comm: -4251816.1231335085\n",
      "ww 0.0\n",
      "gamma: -0.0\n",
      "theta: -0.0\n",
      "comm: -4240972.782949461\n",
      "ww 0.0\n",
      "gamma: -0.0\n",
      "theta: -0.0\n",
      "comm: -4213901.103736465\n",
      "ww 0.0\n",
      "gamma: -0.0\n",
      "theta: -0.0\n",
      "comm: -4169258.335902829\n",
      "ww 0.0\n",
      "gamma: -0.0\n",
      "theta: -0.0\n",
      "comm: -4164251.689282616\n",
      "ww 0.0\n",
      "gamma: -0.0\n",
      "theta: -0.0\n",
      "comm: -4219023.558772269\n",
      "ww 0.0\n",
      "gamma: -0.0\n",
      "theta: -0.0\n",
      "comm: -4272292.970826942\n",
      "ww 0.0\n",
      "gamma: -0.0\n",
      "theta: -0.0\n",
      "comm: -4265520.285324074\n",
      "ww 0.0\n",
      "gamma: -0.0\n",
      "theta: -0.0\n",
      "comm: -4200374.493172698\n",
      "ww 0.0\n",
      "gamma: -0.0\n",
      "theta: -0.0\n",
      "comm: -4145882.53497884\n",
      "ww 0.0\n",
      "gamma: -0.0\n",
      "theta: -0.0\n",
      "comm: -4165940.434123369\n",
      "ww 0.0\n",
      "gamma: -0.0\n",
      "theta: -0.0\n",
      "comm: -4206176.7191111\n",
      "ww 0.0\n",
      "gamma: -0.0\n",
      "theta: -0.0\n",
      "comm: -4233038.941237622\n",
      "ww 0.0\n",
      "gamma: -0.0\n",
      "theta: -0.0\n",
      "comm: -4203311.371760034\n",
      "ww 0.0\n",
      "gamma: -0.0\n",
      "theta: -0.0\n",
      "comm: -4182141.28536469\n",
      "ww 0.0\n",
      "gamma: -0.0\n",
      "theta: -0.0\n",
      "comm: -4212806.356417369\n",
      "ww 0.0\n",
      "gamma: -0.0\n",
      "theta: -0.0\n",
      "comm: -4236660.822423237\n",
      "ww 0.0\n",
      "gamma: -0.0\n",
      "theta: -0.0\n",
      "comm: -4276535.854556084\n",
      "ww 0.0\n",
      "gamma: -0.0\n",
      "theta: -0.0\n",
      "comm: -4240354.874405657\n",
      "ww 0.0\n",
      "gamma: -0.0\n",
      "theta: -0.0\n",
      "comm: -4195791.088313665\n",
      "ww 0.0\n",
      "gamma: -0.0\n",
      "theta: -0.0\n",
      "comm: -4240256.052135638\n",
      "ww 0.0\n",
      "gamma: -0.0\n",
      "theta: -0.0\n",
      "comm: -4290022.604670828\n",
      "ww 0.0\n",
      "gamma: -0.0\n",
      "theta: -0.0\n",
      "comm: -4244734.727158958\n",
      "ww 0.0\n",
      "gamma: 0\n",
      "theta: 0\n",
      "comm: -4171157.843246264\n",
      "ww 0.0\n",
      "gamma: 0\n",
      "theta: 0\n",
      "comm: -4180581.4385094997\n",
      "ww 0.0\n"
     ]
    },
    {
     "name": "stderr",
     "output_type": "stream",
     "text": [
      "C:\\Users\\49912\\Anaconda3\\lib\\site-packages\\ipykernel_launcher.py:95: FutureWarning: set_value is deprecated and will be removed in a future release. Please use .at[] or .iat[] accessors instead\n",
      "C:\\Users\\49912\\Anaconda3\\lib\\site-packages\\ipykernel_launcher.py:100: FutureWarning: \n",
      "Passing list-likes to .loc or [] with any missing label will raise\n",
      "KeyError in the future, you can use .reindex() as an alternative.\n",
      "\n",
      "See the documentation here:\n",
      "http://pandas.pydata.org/pandas-docs/stable/indexing.html#deprecate-loc-reindex-listlike\n",
      "C:\\Users\\49912\\Anaconda3\\lib\\site-packages\\pandas\\core\\indexing.py:1367: FutureWarning: \n",
      "Passing list-likes to .loc or [] with any missing label will raise\n",
      "KeyError in the future, you can use .reindex() as an alternative.\n",
      "\n",
      "See the documentation here:\n",
      "http://pandas.pydata.org/pandas-docs/stable/indexing.html#deprecate-loc-reindex-listlike\n",
      "  return self._getitem_tuple(key)\n"
     ]
    },
    {
     "name": "stdout",
     "output_type": "stream",
     "text": [
      "        pnl\n",
      "count  30.0\n",
      "mean    0.0\n",
      "std     0.0\n",
      "min     0.0\n",
      "25%     0.0\n",
      "50%     0.0\n",
      "75%     0.0\n",
      "max     0.0\n",
      "            ZSS  asian_put  vol         gamma  pnlPredict         delta  spot  totalValue   ww          cash  comm  pnl     error\n",
      "0  12000.000000        0.3  0.0  0.000000e+00         0.0  0.000000e+00   0.0         0.0  0.0  0.000000e+00   0.0  NaN       NaN\n",
      "1  11894.568581        0.3  0.0  1.428498e+08    115000.0  1.427348e+08  -0.0        -0.0  0.0 -4.282045e+06  -0.0  0.0       0.0\n",
      "2  11893.193252        0.3  0.0  2.843142e+08    115000.0  2.841992e+08  -0.0        -0.0  0.0 -4.243932e+06  -0.0  0.0 -115000.0\n",
      "3  11951.054477        0.3  0.0  4.264504e+08    115000.0  4.263354e+08  -0.0        -0.0  0.0 -4.264086e+06  -0.0  0.0 -115000.0\n",
      "4  11946.674814        0.3  0.0  5.692258e+08    115000.0  5.691108e+08  -0.0        -0.0  0.0 -4.283261e+06  -0.0  0.0 -115000.0\n"
     ]
    },
    {
     "data": {
      "image/png": "[encoded data removed]",
      "text/plain": [
       "<matplotlib.figure.Figure at 0x25e10a816a0>"
      ]
     },
     "metadata": {},
     "output_type": "display_data"
    },
    {
     "data": {
      "image/png": "[encoded data removed]",
      "text/plain": [
       "<matplotlib.figure.Figure at 0x25e10aa0e48>"
      ]
     },
     "metadata": {},
     "output_type": "display_data"
    },
    {
     "data": {
      "image/png": "[encoded data removed]",
      "text/plain": [
       "<matplotlib.figure.Figure at 0x25e10b01780>"
      ]
     },
     "metadata": {},
     "output_type": "display_data"
    },
    {
     "data": {
      "image/png": "[encoded data removed]",
      "text/plain": [
       "<matplotlib.figure.Figure at 0x25e10b8f3c8>"
      ]
     },
     "metadata": {},
     "output_type": "display_data"
    },
    {
     "data": {
      "image/png": "[encoded data removed]",
      "text/plain": [
       "<matplotlib.figure.Figure at 0x25e10be2400>"
      ]
     },
     "metadata": {},
     "output_type": "display_data"
    },
    {
     "data": {
      "image/png": "[encoded data removed]",
      "text/plain": [
       "<matplotlib.figure.Figure at 0x25e10c276d8>"
      ]
     },
     "metadata": {},
     "output_type": "display_data"
    }
   ],
   "source": [
    "deltahedge_1(Niter)"
   ]
  },
  {
   "cell_type": "markdown",
   "metadata": {},
   "source": [
    "  "
   ]
  },
  {
   "cell_type": "markdown",
   "metadata": {},
   "source": [
    "Second part of backtest based on the prices generated from Wind Terminal"
   ]
  },
  {
   "cell_type": "code",
   "execution_count": 35,
   "metadata": {},
   "outputs": [
    {
     "name": "stdout",
     "output_type": "stream",
     "text": [
      "     prices   timestamp\n",
      "0   11715.0  2019-04-01\n",
      "1   11680.0  2019-04-02\n",
      "2   11770.0  2019-04-03\n",
      "3   11795.0  2019-04-04\n",
      "4   11835.0  2019-04-08\n",
      "5   11700.0  2019-04-09\n",
      "6   11955.0  2019-04-10\n",
      "7   11910.0  2019-04-11\n",
      "8   11930.0  2019-04-12\n",
      "9   11840.0  2019-04-15\n",
      "10  11685.0  2019-04-16\n",
      "11  11645.0  2019-04-17\n",
      "12  11400.0  2019-04-18\n",
      "13  11470.0  2019-04-19\n",
      "14  11480.0  2019-04-22\n",
      "15  11540.0  2019-04-23\n",
      "16  11475.0  2019-04-24\n",
      "17  11495.0  2019-04-25\n",
      "18  11270.0  2019-04-26\n",
      "19  11255.0  2019-04-29\n",
      "20  11700.0  2019-04-30\n",
      "21  11665.0  2019-05-06\n",
      "22  11865.0  2019-05-07\n",
      "23  11845.0  2019-05-08\n",
      "24  11790.0  2019-05-09\n",
      "25  11775.0  2019-05-10\n",
      "26  11905.0  2019-05-13\n",
      "27  11540.0  2019-05-14\n",
      "28  11745.0  2019-05-15\n",
      "29  12250.0  2019-05-16\n",
      "30  12205.0  2019-05-17\n",
      "31  12045.0  2019-05-20\n",
      "32  12375.0  2019-05-21\n",
      "33  11905.0  2019-05-22\n",
      "34  11720.0  2019-05-23\n",
      "35  11850.0  2019-05-24\n",
      "36  11860.0  2019-05-27\n",
      "37  11955.0  2019-05-28\n",
      "38  12205.0  2019-05-29\n",
      "39  12030.0  2019-05-30\n",
      "40  12250.0  2019-05-31\n",
      "41  11900.0  2019-06-03\n",
      "42  11910.0  2019-06-04\n",
      "43  12125.0  2019-06-05\n",
      "44  12235.0  2019-06-06\n"
     ]
    }
   ],
   "source": [
    "itertype = '1day'     #frequency of detecting and hedging\n",
    "if itertype == '30min':\n",
    "    startdate = '2019-05-31 09:00:00'\n",
    "    enddate = '2019-06-06 15:00:00'\n",
    "    expired_data = '2019-06-31 15:00:00'\n",
    "    wdata = w.wsi(\"RU1909.SHF\", \"close\", startdate, enddate, \"BarSize=30\")\n",
    "elif itertype == '1hour':\n",
    "    startdate = '2019-05-31 09:00:00'\n",
    "    enddate = '2019-06-06 15:00:00'\n",
    "    expired_data = '2019-06-31 15:00:00'\n",
    "    wdata = w.wsi(\"RU1909.SHF\", \"close\", startdate, enddate, \"BarSize=60\")\n",
    "elif itertype == '1day':\n",
    "    startdate = '2019-03-31'\n",
    "    enddate = '2019-06-06'\n",
    "    expired_data = '2019-06-31'\n",
    "    wdata = w.wsd(\"RU1909.SHF\", \"close\", startdate, enddate, \"\")\n",
    "    \n",
    "prices_data = wdata.Data[0]\n",
    "times_data = wdata.Times\n",
    "Niter = len(prices_data)\n",
    "original_data = pd.DataFrame({'prices':prices_data,'timestamp':times_data})\n",
    "print(original_data)\n",
    "#print(wsi_data)\n",
    "#print(wsi_data.Data)\n",
    "#print(wsi_data.Times)"
   ]
  },
  {
   "cell_type": "code",
   "execution_count": 36,
   "metadata": {},
   "outputs": [],
   "source": [
    "def deltahedge_2(Niter):\n",
    "    timer_1 = clock()\n",
    "    Strike = 12000\n",
    "    rf = .03\n",
    "    vol = .3\n",
    "    Strike = 12250\n",
    "    iterToSell = 1\n",
    "    iterMaturity = Niter-1\n",
    "    for i in range(Niter):\n",
    "        S = original_data['prices'][i]\n",
    "        print(S)\n",
    "            \n",
    "        #asianput = MCAPut(iterToSell,iterMaturity,Strike,-10)\n",
    "        #asianPutValue = asianput.calc(iter,vol,S,rf)\n",
    "    timer_2 = clock()\n",
    "    print('deltahedge_2 time spent:',timer_2 - timer_1)\n",
    "    "
   ]
  },
  {
   "cell_type": "code",
   "execution_count": 37,
   "metadata": {},
   "outputs": [
    {
     "name": "stdout",
     "output_type": "stream",
     "text": [
      "11715.0\n",
      "11680.0\n",
      "11770.0\n",
      "11795.0\n",
      "11835.0\n",
      "11700.0\n",
      "11955.0\n",
      "11910.0\n",
      "11930.0\n",
      "11840.0\n",
      "11685.0\n",
      "11645.0\n",
      "11400.0\n",
      "11470.0\n",
      "11480.0\n",
      "11540.0\n",
      "11475.0\n",
      "11495.0\n",
      "11270.0\n",
      "11255.0\n",
      "11700.0\n",
      "11665.0\n",
      "11865.0\n",
      "11845.0\n",
      "11790.0\n",
      "11775.0\n",
      "11905.0\n",
      "11540.0\n",
      "11745.0\n",
      "12250.0\n",
      "12205.0\n",
      "12045.0\n",
      "12375.0\n",
      "11905.0\n",
      "11720.0\n",
      "11850.0\n",
      "11860.0\n",
      "11955.0\n",
      "12205.0\n",
      "12030.0\n",
      "12250.0\n",
      "11900.0\n",
      "11910.0\n",
      "12125.0\n",
      "12235.0\n",
      "deltahedge_2 time spent: 0.005334699999366421\n"
     ]
    }
   ],
   "source": [
    "deltahedge_2(Niter)"
   ]
  },
  {
   "cell_type": "code",
   "execution_count": null,
   "metadata": {},
   "outputs": [],
   "source": []
  },
  {
   "cell_type": "code",
   "execution_count": null,
   "metadata": {},
   "outputs": [],
   "source": []
  },
  {
   "cell_type": "code",
   "execution_count": null,
   "metadata": {},
   "outputs": [],
   "source": []
  },
  {
   "cell_type": "code",
   "execution_count": null,
   "metadata": {},
   "outputs": [],
   "source": []
  },
  {
   "cell_type": "code",
   "execution_count": null,
   "metadata": {},
   "outputs": [],
   "source": []
  },
  {
   "cell_type": "code",
   "execution_count": null,
   "metadata": {},
   "outputs": [],
   "source": []
  },
  {
   "cell_type": "code",
   "execution_count": null,
   "metadata": {},
   "outputs": [],
   "source": []
  },
  {
   "cell_type": "code",
   "execution_count": null,
   "metadata": {},
   "outputs": [],
   "source": []
  },
  {
   "cell_type": "code",
   "execution_count": null,
   "metadata": {},
   "outputs": [],
   "source": []
  },
  {
   "cell_type": "code",
   "execution_count": null,
   "metadata": {},
   "outputs": [],
   "source": []
  },
  {
   "cell_type": "code",
   "execution_count": null,
   "metadata": {},
   "outputs": [],
   "source": []
  },
  {
   "cell_type": "code",
   "execution_count": null,
   "metadata": {},
   "outputs": [],
   "source": []
  },
  {
   "cell_type": "code",
   "execution_count": null,
   "metadata": {},
   "outputs": [],
   "source": []
  },
  {
   "cell_type": "code",
   "execution_count": null,
   "metadata": {},
   "outputs": [],
   "source": []
  },
  {
   "cell_type": "code",
   "execution_count": null,
   "metadata": {},
   "outputs": [],
   "source": []
  }
 ],
 "metadata": {
  "kernelspec": {
   "display_name": "Python 3",
   "language": "python",
   "name": "python3"
  },
  "language_info": {
   "codemirror_mode": {
    "name": "ipython",
    "version": 3
   },
   "file_extension": ".py",
   "mimetype": "text/x-python",
   "name": "python",
   "nbconvert_exporter": "python",
   "pygments_lexer": "ipython3",
   "version": "3.6.4"
  }
 },
 "nbformat": 4,
 "nbformat_minor": 2
}
