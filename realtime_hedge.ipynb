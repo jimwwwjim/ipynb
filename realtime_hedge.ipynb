{
 "cells": [
  {
   "cell_type": "code",
   "execution_count": 1,
   "metadata": {},
   "outputs": [
    {
     "name": "stdout",
     "output_type": "stream",
     "text": [
      "Welcome to use Wind Quant API for Python (WindPy)!\n",
      "\n",
      "COPYRIGHT (C) 2017 WIND INFORMATION CO., LTD. ALL RIGHTS RESERVED.\n",
      "IN NO CIRCUMSTANCE SHALL WIND BE RESPONSIBLE FOR ANY DAMAGES OR LOSSES CAUSED BY USING WIND QUANT API FOR Python.\n"
     ]
    }
   ],
   "source": [
    "\n",
    "'''\n",
    "delta hedging trial\n",
    "\n",
    "real time hedging framework\n",
    "\n",
    "author: JIMWWWJIM\n",
    "'''\n",
    "\n",
    "\n",
    "#----packages input---\n",
    "\n",
    "#for the historical data\n",
    "from WindPy import *\n",
    "w.start()\n",
    "\n",
    "import numpy as np\n",
    "import pandas as pd\n",
    "import matplotlib.pyplot as plt\n",
    "from math import exp, sqrt, log\n",
    "from random import seed, gauss\n",
    "import datetime\n",
    "import time\n",
    "from scipy.stats.distributions import norm\n",
    "import scipy\n",
    "# pd setting\n",
    "pd.set_option('display.width',320)\n",
    "pd.set_option('display.max_rows',100)\n",
    "# historical data collection and management\n",
    "# minutes data based on wsi api function"
   ]
  },
  {
   "cell_type": "code",
   "execution_count": 2,
   "metadata": {},
   "outputs": [],
   "source": [
    "\n",
    "wsi_data = w.wsi('RU1909.SHF','close','2019-05-24 09:00:00','2019-05-24 10:30:57','')\n",
    "prices_data = wsi_data.Data\n",
    "times_data = wsi_data.Times\n",
    "#print(wsi_data)\n",
    "#print(wsi_data.Data)\n",
    "#print(wsi_data.Times)\n",
    "\n"
   ]
  },
  {
   "cell_type": "code",
   "execution_count": 3,
   "metadata": {},
   "outputs": [],
   "source": [
    "def MonteCarlo(reTime, rf, S, K, sigma):\n",
    "\tsiTi = 10000\n",
    "\t# siTi times of simulations, could be 1,000,000\n",
    "\t#reTime  remaining Time, would be given in the class()\n",
    "\tlist_1 = []   #asian call option value list\n",
    "\tlist_2 = []   #asian put option value list\n",
    "\tdt = 1/3000\n",
    "\tfor si in range(siTi):\n",
    "\t\tpath = []\n",
    "\t\tw = gauss(0,1)\n",
    "\t\ttotalNodes = reTime*3000\n",
    "\t\tfor node in range(int(totalNodes)):\n",
    "\t\t\tif node == 0:\n",
    "\t\t\t\tpath.append(S)\n",
    "\t\t\telse:\n",
    "\t\t\t\tSt = path[-1]*exp((rf-0.5*sigma**2)*dt+(sigma*sqrt(dt)*w))\n",
    "\t\t\t\tpath.append(St)\n",
    "\t\tave_close = 500\n",
    "\t\tasian_put_value = max(K-ave_close,0)\n",
    "\t\tasian_call_value = max(ave_close-K,0)\n",
    "\t\tlist_2.append(asian_put_value)\n",
    "\t\tlist_1.append(asian_call_value)\n",
    "\tp = sum(list_2)/siTi\n",
    "\tc = sum(list_1)/siTi\n",
    "\treturn {'asianput_MC':p,'asiancall_MC':c}\n",
    "\n",
    "\n",
    "def asian_delta(reTime, rf, S, K, sigma):\n",
    "\tS1=S+0.01*S\n",
    "\tS2=S-0.01*S\n",
    "\tMC_1 = MonteCarlo(reTime, rf, S1, K, sigma)\n",
    "\tMC_2 = MonteCarlo(reTime, rf, S2, K, sigma)\n",
    "\tputvalue_1 = MC_1['asianput_MC']\n",
    "\tputvalue_2 = MC_2['asianput_MC']\n",
    "\tdelta = (putvalue_1-putvalue_2)/(0.02*S)\n",
    "\treturn delta\n",
    "\n",
    "def asian_gamma(reTime, rf, S, K, sigma):\n",
    "\tS1 = S + 0.01*S\n",
    "\tS2 = S - 0.01*S\n",
    "\tad_1 = asian_delta(reTime, rf, S1, K, sigma)\n",
    "\tad_2 = asian_delta(reTime, rf, S2, K, sigma)\n",
    "\tgamma = (ad_1 - ad_2)/(0.02*S)\n",
    "\treturn gamma\n",
    "\n",
    "def asian_theta(reTime,rf,S,K,sigma):\n",
    "\tglobal dt\n",
    "\tdt = 1/3000\n",
    "\ttau_1 = reTime-dt\n",
    "\tMC_1 = MonteCarlo(tau_1, rf, S, K, sigma)\n",
    "\tMC_2 = MonteCarlo(reTime, rf, S, K, sigma)\n",
    "\tputvalue_1 = MC_1['asianput_MC']\n",
    "\tputvalue_2 = MC_2['asianput_MC']\n",
    "\ttheta = (putvalue_2-putvalue_1)/dt\n",
    "\treturn theta\n",
    "\n",
    "class MCAPut(object):\n",
    "\tdef __init__(self,start,T,K,N):\n",
    "\t\tself.T=T\n",
    "\t\tself.K=K\n",
    "\t\tself.start=start  #time to sell option\n",
    "\t\tself.N=N\n",
    "\t\t\n",
    "\tdef calc(self,today,vol,S,rf):\n",
    "\t\tif today<self.start:\n",
    "\t\t\treturn {'asian_delta':0,'asian_put':0,'asian_gamma':0,'asian_theta':0,'theta':0}\n",
    "\t\tif today>self.T:\n",
    "\t\t\treturn {'asian_delta':0,'asian_put':0,'asian_gamma':0,'asian_theta':0,'theta':0}\n",
    "\t\tif today == self.T:\n",
    "\t\t\treturn {'asian_delta':0,'asian_put':0,'asian_gamma':0,'asian_theta':0,'theta':0}\n",
    "\t\t#reTime=(self.T-today)/250.\n",
    "\t\t#print('class MCAPut self.T',self.T)\n",
    "\t\t#print('class MCAPut today',today)\n",
    "\t\treTime=(self.T-today)/3000\n",
    "\t\t#print('class MCAPut reTime',reTime)\n",
    "\t\tasian_put = MonteCarlo(reTime, rf, S, self.K, vol)['asianput_MC']\n",
    "\t\tdelta = asian_delta(reTime, rf, S, self.K, vol)\n",
    "\t\t#print(type(delta))\n",
    "\t\tgamma = asian_gamma(reTime, rf, S, self.K, vol)\n",
    "\t\t#print(type(gamma))\n",
    "\t\ttheta = asian_theta(reTime, rf, S, self.K, vol)\n",
    "\t\t#print(type(theta))\n",
    "\t\treturn{'asian_delta':self.N*delta,'asian_put':self.N*asian_put,'asian_gamma':self.N*gamma,'asian_theta':self.N*theta}\n",
    "\n"
   ]
  },
  {
   "cell_type": "code",
   "execution_count": 4,
   "metadata": {},
   "outputs": [],
   "source": [
    "def price_required():\n",
    "\twsq_data = w.wsq(\"RU1909.SHF\", \"rt_last,rt_latest\")\n",
    "\tprint(wsq_data)\n",
    "\tprice_rt_last = wsq_data.Data[0][0]\n",
    "\tprice_rt_latest = wsq_data.Data[1][0]\n",
    "\tprint('price_rt_last',price_rt_last)\n",
    "\tprint('price_rt_latest',price_rt_latest)\n",
    "\treturn price_rt_last,price_rt_last\n",
    "\n",
    "def european_price_required():\n",
    "\twsq_data = w.wsq(\"RU1909P12000.SHF\", \"rt_last,rt_imp_volatility,rt_theta,rt_delta,rt_gamma\")\n",
    "\tprint(wsq_data)\n",
    "\tprice_ = wsq_data.Data[0][0]\n",
    "\tIV_ = wsq_data.Data[1][0]\n",
    "\ttheta_ = wsq_data.Data[2][0]\n",
    "\tdelta_ = wsq_data.Data[3][0]\n",
    "\tgamma_ = wsq_data.Data[4][0]\n",
    "\tprint('price of european option',price_)\n",
    "\tprint('implied volatility', IV_)\n",
    "\tprint('theta',theta_)\n",
    "\tprint('delta',delta_)\n",
    "\tprint('gamma',gamma_)\n",
    "\treturn price_,IV_,theta_,delta_,gamma_\n",
    "\n"
   ]
  },
  {
   "cell_type": "code",
   "execution_count": 22,
   "metadata": {},
   "outputs": [],
   "source": [
    "def time_remain():\n",
    "    t_end = datetime.datetime.strptime('2019-06-30','%Y-%m-%d')\n",
    "    date_end = t_end.date()\n",
    "    date_now = datetime.datetime.now().date()\n",
    "    time_delta = date_end - date_now\n",
    "    re_days = time_delta.days\n",
    "    T = re_days/365\n",
    "    return T"
   ]
  },
  {
   "cell_type": "code",
   "execution_count": 7,
   "metadata": {},
   "outputs": [],
   "source": [
    "def main():\n",
    "\tcolumns = ['标的资产现价','标的资产最新成交价','RU1909P12000 现价','RU1909P12000 隐含波动率','RU1909P12000 theta','RU1909P12000 delta','RU1909P12000 gamma','t']\n",
    "\tlist_ua_price1 = []\n",
    "\tlist_ua_price2 = []\n",
    "\tlist_eo_price = []\n",
    "\tlist_eo_iv = []\n",
    "\tlist_eo_theta = []\n",
    "\tlist_eo_delta = []\n",
    "\tlist_eo_gamma = []\n",
    "\tt_list = []\n",
    "\t\n",
    "\twhile True:\n",
    "\t\tnow = datetime.datetime.now()\n",
    "\t\t#print(now.month,now.day)\n",
    "\t\tstamp = '2019/0'+str(now.month)+'/'+str(now.day)\n",
    "\t\tprint(stamp)\n",
    "\n",
    "\t\tprint(now.hour,now.minute)\n",
    "\t\th_list = [9,10,11,13,14,15,21,23]\n",
    "\t\tif now.hour in h_list:\n",
    "\t\t\tif now.minute == 0 or now.minute == 30:\n",
    "\t\t\t\tprint(now)\n",
    "\t\t\t\tua_price_1, ua_price_2 = price_required()\n",
    "\t\t\t\teo_price, eo_iv, eo_theta, eo_delta, eo_gamma = european_price_required()\n",
    "\t\t\t\tprint('time:',now)\n",
    "\t\t\t\tprint(u'标的资产现价：',ua_price_1)\n",
    "\t\t\t\tprint(u'标的资产最新成交价：',ua_price_2)\n",
    "\t\t\t\tprint(u'RU1909P12000 现价：',eo_price)\n",
    "\t\t\t\tprint(u'RU1909P12000 隐含波动率：',eo_iv)\n",
    "\t\t\t\tprint(u'RU1909P12000 theta',eo_theta)\n",
    "\t\t\t\tprint(u'RU1909P12000 delta',eo_delta)\n",
    "\t\t\t\tprint(u'RU1909P12000 gamma',eo_gamma)\n",
    "\t\t\t\tlist_ua_price1.append(ua_price_1)\n",
    "\t\t\t\tlist_ua_price2.append(ua_price_2)\n",
    "\t\t\t\tlist_eo_price.append(eo_price)\n",
    "\t\t\t\tlist_eo_iv.append(eo_iv)\n",
    "\t\t\t\tlist_eo_theta.append(eo_theta)\n",
    "\t\t\t\tlist_eo_delta.append(eo_delta)\n",
    "\t\t\t\tlist_eo_gamma.append(eo_gamma)\n",
    "\t\t\t\tt_list.append(now)\n",
    "\t\ttime.sleep(60)\n",
    "\t\tif now.hour == 15 and now.minute == 0:\n",
    "\t\t\tprint(list_ua_price1)\n",
    "\t\t\tprint(list_ua_price2)\n",
    "\t\t\tprint(list_eo_price)\n",
    "\t\t\tprint(list_eo_iv)\n",
    "\t\t\tprint(list_eo_theta)\n",
    "\t\t\tprint(list_eo_delta)\n",
    "\t\t\tprint(list_eo_gamma)\n",
    "\t\t\tprint(t_list)\n",
    "\t\t\tdf = pd.DataFrame([list_ua_price1,list_ua_price2,list_eo_price,list_eo_iv,list_eo_theta,list_eo_delta,list_eo_gamma,t_list],columns=columns)\n",
    "\t\t\tprint(df)\n"
   ]
  },
  {
   "cell_type": "code",
   "execution_count": 24,
   "metadata": {
    "scrolled": true
   },
   "outputs": [
    {
     "data": {
      "text/plain": [
       "0.0684931506849315"
      ]
     },
     "execution_count": 24,
     "metadata": {},
     "output_type": "execute_result"
    }
   ],
   "source": [
    "T = time_remain()\n",
    "T"
   ]
  },
  {
   "cell_type": "code",
   "execution_count": 25,
   "metadata": {},
   "outputs": [
    {
     "name": "stdout",
     "output_type": "stream",
     "text": [
      "2019/06/5\n",
      "14 54\n",
      "2019/06/5\n",
      "14 55\n",
      "2019/06/5\n",
      "14 56\n",
      "2019/06/5\n",
      "14 57\n",
      "2019/06/5\n",
      "14 58\n",
      "2019/06/5\n",
      "14 59\n",
      "2019/06/5\n",
      "15 0\n",
      "2019-06-05 15:00:37.164436\n",
      ".ErrorCode=0\n",
      ".Codes=[RU1909.SHF]\n",
      ".Fields=[RT_LAST,RT_LATEST]\n",
      ".Times=[20190605 15:00:37]\n",
      ".Data=[[12125.0],[12125.0]]\n",
      "price_rt_last 12125.0\n",
      "price_rt_latest 12125.0\n",
      ".ErrorCode=0\n",
      ".Codes=[RU1909P12000.SHF]\n",
      ".Fields=[RT_LAST,RT_IMP_VOLATILITY,RT_THETA,RT_DELTA,RT_GAMMA]\n",
      ".Times=[20190605 15:00:37]\n",
      ".Data=[[539.0],[0.4389],[-3.3459000000000003],[-0.4395],[0.00030000000000000003]]\n",
      "price of european option 539.0\n",
      "implied volatility 0.4389\n",
      "theta -3.3459000000000003\n",
      "delta -0.4395\n",
      "gamma 0.00030000000000000003\n",
      "time: 2019-06-05 15:00:37.164436\n",
      "标的资产现价： 12125.0\n",
      "标的资产最新成交价： 12125.0\n",
      "RU1909P12000 现价： 539.0\n",
      "RU1909P12000 隐含波动率： 0.4389\n",
      "RU1909P12000 theta -3.3459000000000003\n",
      "RU1909P12000 delta -0.4395\n",
      "RU1909P12000 gamma 0.00030000000000000003\n",
      "[12125.0]\n",
      "[12125.0]\n",
      "[539.0]\n",
      "[0.4389]\n",
      "[-3.3459000000000003]\n",
      "[-0.4395]\n",
      "[0.00030000000000000003]\n",
      "[datetime.datetime(2019, 6, 5, 15, 0, 37, 164436)]\n"
     ]
    },
    {
     "ename": "AssertionError",
     "evalue": "8 columns passed, passed data had 1 columns",
     "output_type": "error",
     "traceback": [
      "\u001b[1;31m---------------------------------------------------------------------------\u001b[0m",
      "\u001b[1;31mAssertionError\u001b[0m                            Traceback (most recent call last)",
      "\u001b[1;32m<ipython-input-25-263240bbee7e>\u001b[0m in \u001b[0;36m<module>\u001b[1;34m()\u001b[0m\n\u001b[1;32m----> 1\u001b[1;33m \u001b[0mmain\u001b[0m\u001b[1;33m(\u001b[0m\u001b[1;33m)\u001b[0m\u001b[1;33m\u001b[0m\u001b[0m\n\u001b[0m",
      "\u001b[1;32m<ipython-input-7-34807414eacb>\u001b[0m in \u001b[0;36mmain\u001b[1;34m()\u001b[0m\n\u001b[0;32m     49\u001b[0m                         \u001b[0mprint\u001b[0m\u001b[1;33m(\u001b[0m\u001b[0mlist_eo_gamma\u001b[0m\u001b[1;33m)\u001b[0m\u001b[1;33m\u001b[0m\u001b[0m\n\u001b[0;32m     50\u001b[0m                         \u001b[0mprint\u001b[0m\u001b[1;33m(\u001b[0m\u001b[0mt_list\u001b[0m\u001b[1;33m)\u001b[0m\u001b[1;33m\u001b[0m\u001b[0m\n\u001b[1;32m---> 51\u001b[1;33m                         \u001b[0mdf\u001b[0m \u001b[1;33m=\u001b[0m \u001b[0mpd\u001b[0m\u001b[1;33m.\u001b[0m\u001b[0mDataFrame\u001b[0m\u001b[1;33m(\u001b[0m\u001b[1;33m[\u001b[0m\u001b[0mlist_ua_price1\u001b[0m\u001b[1;33m,\u001b[0m\u001b[0mlist_ua_price2\u001b[0m\u001b[1;33m,\u001b[0m\u001b[0mlist_eo_price\u001b[0m\u001b[1;33m,\u001b[0m\u001b[0mlist_eo_iv\u001b[0m\u001b[1;33m,\u001b[0m\u001b[0mlist_eo_theta\u001b[0m\u001b[1;33m,\u001b[0m\u001b[0mlist_eo_delta\u001b[0m\u001b[1;33m,\u001b[0m\u001b[0mlist_eo_gamma\u001b[0m\u001b[1;33m,\u001b[0m\u001b[0mt_list\u001b[0m\u001b[1;33m]\u001b[0m\u001b[1;33m,\u001b[0m\u001b[0mcolumns\u001b[0m\u001b[1;33m=\u001b[0m\u001b[0mcolumns\u001b[0m\u001b[1;33m)\u001b[0m\u001b[1;33m\u001b[0m\u001b[0m\n\u001b[0m\u001b[0;32m     52\u001b[0m                         \u001b[0mprint\u001b[0m\u001b[1;33m(\u001b[0m\u001b[0mdf\u001b[0m\u001b[1;33m)\u001b[0m\u001b[1;33m\u001b[0m\u001b[0m\n",
      "\u001b[1;32mD:\\ProgramData\\lib\\site-packages\\pandas\\core\\frame.py\u001b[0m in \u001b[0;36m__init__\u001b[1;34m(self, data, index, columns, dtype, copy)\u001b[0m\n\u001b[0;32m    385\u001b[0m                     \u001b[1;32mif\u001b[0m \u001b[0mis_named_tuple\u001b[0m\u001b[1;33m(\u001b[0m\u001b[0mdata\u001b[0m\u001b[1;33m[\u001b[0m\u001b[1;36m0\u001b[0m\u001b[1;33m]\u001b[0m\u001b[1;33m)\u001b[0m \u001b[1;32mand\u001b[0m \u001b[0mcolumns\u001b[0m \u001b[1;32mis\u001b[0m \u001b[1;32mNone\u001b[0m\u001b[1;33m:\u001b[0m\u001b[1;33m\u001b[0m\u001b[0m\n\u001b[0;32m    386\u001b[0m                         \u001b[0mcolumns\u001b[0m \u001b[1;33m=\u001b[0m \u001b[0mdata\u001b[0m\u001b[1;33m[\u001b[0m\u001b[1;36m0\u001b[0m\u001b[1;33m]\u001b[0m\u001b[1;33m.\u001b[0m\u001b[0m_fields\u001b[0m\u001b[1;33m\u001b[0m\u001b[0m\n\u001b[1;32m--> 387\u001b[1;33m                     \u001b[0marrays\u001b[0m\u001b[1;33m,\u001b[0m \u001b[0mcolumns\u001b[0m \u001b[1;33m=\u001b[0m \u001b[0m_to_arrays\u001b[0m\u001b[1;33m(\u001b[0m\u001b[0mdata\u001b[0m\u001b[1;33m,\u001b[0m \u001b[0mcolumns\u001b[0m\u001b[1;33m,\u001b[0m \u001b[0mdtype\u001b[0m\u001b[1;33m=\u001b[0m\u001b[0mdtype\u001b[0m\u001b[1;33m)\u001b[0m\u001b[1;33m\u001b[0m\u001b[0m\n\u001b[0m\u001b[0;32m    388\u001b[0m                     \u001b[0mcolumns\u001b[0m \u001b[1;33m=\u001b[0m \u001b[0m_ensure_index\u001b[0m\u001b[1;33m(\u001b[0m\u001b[0mcolumns\u001b[0m\u001b[1;33m)\u001b[0m\u001b[1;33m\u001b[0m\u001b[0m\n\u001b[0;32m    389\u001b[0m \u001b[1;33m\u001b[0m\u001b[0m\n",
      "\u001b[1;32mD:\\ProgramData\\lib\\site-packages\\pandas\\core\\frame.py\u001b[0m in \u001b[0;36m_to_arrays\u001b[1;34m(data, columns, coerce_float, dtype)\u001b[0m\n\u001b[0;32m   7473\u001b[0m     \u001b[1;32mif\u001b[0m \u001b[0misinstance\u001b[0m\u001b[1;33m(\u001b[0m\u001b[0mdata\u001b[0m\u001b[1;33m[\u001b[0m\u001b[1;36m0\u001b[0m\u001b[1;33m]\u001b[0m\u001b[1;33m,\u001b[0m \u001b[1;33m(\u001b[0m\u001b[0mlist\u001b[0m\u001b[1;33m,\u001b[0m \u001b[0mtuple\u001b[0m\u001b[1;33m)\u001b[0m\u001b[1;33m)\u001b[0m\u001b[1;33m:\u001b[0m\u001b[1;33m\u001b[0m\u001b[0m\n\u001b[0;32m   7474\u001b[0m         return _list_to_arrays(data, columns, coerce_float=coerce_float,\n\u001b[1;32m-> 7475\u001b[1;33m                                dtype=dtype)\n\u001b[0m\u001b[0;32m   7476\u001b[0m     \u001b[1;32melif\u001b[0m \u001b[0misinstance\u001b[0m\u001b[1;33m(\u001b[0m\u001b[0mdata\u001b[0m\u001b[1;33m[\u001b[0m\u001b[1;36m0\u001b[0m\u001b[1;33m]\u001b[0m\u001b[1;33m,\u001b[0m \u001b[0mcollections\u001b[0m\u001b[1;33m.\u001b[0m\u001b[0mMapping\u001b[0m\u001b[1;33m)\u001b[0m\u001b[1;33m:\u001b[0m\u001b[1;33m\u001b[0m\u001b[0m\n\u001b[0;32m   7477\u001b[0m         return _list_of_dict_to_arrays(data, columns,\n",
      "\u001b[1;32mD:\\ProgramData\\lib\\site-packages\\pandas\\core\\frame.py\u001b[0m in \u001b[0;36m_list_to_arrays\u001b[1;34m(data, columns, coerce_float, dtype)\u001b[0m\n\u001b[0;32m   7552\u001b[0m         \u001b[0mcontent\u001b[0m \u001b[1;33m=\u001b[0m \u001b[0mlist\u001b[0m\u001b[1;33m(\u001b[0m\u001b[0mlib\u001b[0m\u001b[1;33m.\u001b[0m\u001b[0mto_object_array\u001b[0m\u001b[1;33m(\u001b[0m\u001b[0mdata\u001b[0m\u001b[1;33m)\u001b[0m\u001b[1;33m.\u001b[0m\u001b[0mT\u001b[0m\u001b[1;33m)\u001b[0m\u001b[1;33m\u001b[0m\u001b[0m\n\u001b[0;32m   7553\u001b[0m     return _convert_object_array(content, columns, dtype=dtype,\n\u001b[1;32m-> 7554\u001b[1;33m                                  coerce_float=coerce_float)\n\u001b[0m\u001b[0;32m   7555\u001b[0m \u001b[1;33m\u001b[0m\u001b[0m\n\u001b[0;32m   7556\u001b[0m \u001b[1;33m\u001b[0m\u001b[0m\n",
      "\u001b[1;32mD:\\ProgramData\\lib\\site-packages\\pandas\\core\\frame.py\u001b[0m in \u001b[0;36m_convert_object_array\u001b[1;34m(content, columns, coerce_float, dtype)\u001b[0m\n\u001b[0;32m   7610\u001b[0m             raise AssertionError('{col:d} columns passed, passed data had '\n\u001b[0;32m   7611\u001b[0m                                  '{con} columns'.format(col=len(columns),\n\u001b[1;32m-> 7612\u001b[1;33m                                                         con=len(content)))\n\u001b[0m\u001b[0;32m   7613\u001b[0m \u001b[1;33m\u001b[0m\u001b[0m\n\u001b[0;32m   7614\u001b[0m     \u001b[1;31m# provide soft conversion of object dtypes\u001b[0m\u001b[1;33m\u001b[0m\u001b[1;33m\u001b[0m\u001b[0m\n",
      "\u001b[1;31mAssertionError\u001b[0m: 8 columns passed, passed data had 1 columns"
     ]
    }
   ],
   "source": [
    "main()"
   ]
  },
  {
   "cell_type": "code",
   "execution_count": null,
   "metadata": {},
   "outputs": [],
   "source": []
  },
  {
   "cell_type": "code",
   "execution_count": 8,
   "metadata": {},
   "outputs": [],
   "source": [
    "import datetime"
   ]
  },
  {
   "cell_type": "code",
   "execution_count": 15,
   "metadata": {},
   "outputs": [],
   "source": [
    "now = datetime.datetime.now().date()"
   ]
  },
  {
   "cell_type": "code",
   "execution_count": 16,
   "metadata": {},
   "outputs": [
    {
     "data": {
      "text/plain": [
       "datetime.date(2019, 6, 5)"
      ]
     },
     "execution_count": 16,
     "metadata": {},
     "output_type": "execute_result"
    }
   ],
   "source": [
    "now"
   ]
  },
  {
   "cell_type": "code",
   "execution_count": null,
   "metadata": {},
   "outputs": [],
   "source": []
  },
  {
   "cell_type": "code",
   "execution_count": null,
   "metadata": {},
   "outputs": [],
   "source": []
  },
  {
   "cell_type": "code",
   "execution_count": null,
   "metadata": {},
   "outputs": [],
   "source": []
  },
  {
   "cell_type": "code",
   "execution_count": null,
   "metadata": {},
   "outputs": [],
   "source": []
  },
  {
   "cell_type": "code",
   "execution_count": null,
   "metadata": {},
   "outputs": [],
   "source": []
  },
  {
   "cell_type": "code",
   "execution_count": null,
   "metadata": {},
   "outputs": [],
   "source": []
  },
  {
   "cell_type": "code",
   "execution_count": null,
   "metadata": {},
   "outputs": [],
   "source": []
  },
  {
   "cell_type": "code",
   "execution_count": null,
   "metadata": {},
   "outputs": [],
   "source": []
  },
  {
   "cell_type": "code",
   "execution_count": null,
   "metadata": {},
   "outputs": [],
   "source": []
  },
  {
   "cell_type": "code",
   "execution_count": null,
   "metadata": {},
   "outputs": [],
   "source": []
  },
  {
   "cell_type": "code",
   "execution_count": null,
   "metadata": {},
   "outputs": [],
   "source": []
  },
  {
   "cell_type": "code",
   "execution_count": null,
   "metadata": {},
   "outputs": [],
   "source": []
  }
 ],
 "metadata": {
  "kernelspec": {
   "display_name": "Python 3",
   "language": "python",
   "name": "python3"
  },
  "language_info": {
   "codemirror_mode": {
    "name": "ipython",
    "version": 3
   },
   "file_extension": ".py",
   "mimetype": "text/x-python",
   "name": "python",
   "nbconvert_exporter": "python",
   "pygments_lexer": "ipython3",
   "version": "3.6.4"
  }
 },
 "nbformat": 4,
 "nbformat_minor": 2
}
